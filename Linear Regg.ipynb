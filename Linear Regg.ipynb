{
 "cells": [
  {
   "cell_type": "markdown",
   "metadata": {},
   "source": [
    "# Linear Regression"
   ]
  },
  {
   "cell_type": "markdown",
   "metadata": {},
   "source": [
    "\n",
    "## Theoretical Understanding:\n",
    "\n",
    "1. https://www.youtube.com/watch?v=1-OGRohmH2s&list=PLZoTAELRMXVPBTrWtJkn3wWQxZkmTXGwe&index=29\n",
    "2. https://www.youtube.com/watch?v=5rvnlZWzox8&list=PLZoTAELRMXVPBTrWtJkn3wWQxZkmTXGwe&index=34\n",
    "3. https://www.youtube.com/watch?v=NAPhUDjgG_s&list=PLZoTAELRMXVPBTrWtJkn3wWQxZkmTXGwe&index=32\n",
    "4. https://www.youtube.com/watch?v=WuuyD3Yr-js&list=PLZoTAELRMXVPBTrWtJkn3wWQxZkmTXGwe&index=35\n",
    "5. https://www.youtube.com/watch?v=BqzgUnrNhFM&list=PLZoTAELRMXVPBTrWtJkn3wWQxZkmTXGwe&index=33"
   ]
  },
  {
   "cell_type": "markdown",
   "metadata": {},
   "source": [
    "### Interview Question on Multicollinearity\n",
    "\n",
    "*  https://www.youtube.com/watch?v=tcaruVHXZwE"
   ]
  },
  {
   "cell_type": "markdown",
   "metadata": {},
   "source": [
    "### What Are the Basic Assumption?(favourite)\n",
    "There are four assumptions associated with a linear regression model:\n",
    "\n",
    "1. Linearity: The relationship between X and the mean of Y is linear.\n",
    "2. Homoscedasticity: The variance of residual is the same for any value of X.\n",
    "3. Independence: Observations are independent of each other.\n",
    "4. Normality: For any fixed value of X, Y is normally distributed."
   ]
  },
  {
   "cell_type": "markdown",
   "metadata": {},
   "source": [
    "### Advantages\n",
    "1. Linear regression performs exceptionally well for linearly separable data\n",
    "2. Easy to implement and train the model\n",
    "3. It can handle overfitting using dimensionlity reduction techniques and cross validation and regularization \n"
   ]
  },
  {
   "cell_type": "markdown",
   "metadata": {},
   "source": [
    "### Disadvantages\n",
    "1. Sometimes Lot of Feature Engineering Is required\n",
    "2. If the independent features are correlated it may affect performance\n",
    "3. It is often quite prone to noise and overfitting"
   ]
  },
  {
   "cell_type": "markdown",
   "metadata": {},
   "source": [
    "### Whether Feature Scaling is required?\n",
    "Yes"
   ]
  },
  {
   "cell_type": "markdown",
   "metadata": {},
   "source": [
    "### Impact of Missing Values?\n",
    "It is sensitive to missing values\n"
   ]
  },
  {
   "cell_type": "markdown",
   "metadata": {},
   "source": [
    "### Impact of outliers?\n",
    "linear regression needs the relationship between the independent and dependent variables to be linear. It is also important to check for outliers since linear regression is sensitive to outlier effects.\n",
    "\n",
    "![Outliers](https://i.ibb.co/xY8G5Hm/Screen-Shot-2022-05-10-at-20-01-20.png\")"
   ]
  },
  {
   "cell_type": "markdown",
   "metadata": {},
   "source": [
    "### Types of Problems it can solve(Supervised)\n",
    "* Regression"
   ]
  },
  {
   "cell_type": "markdown",
   "metadata": {},
   "source": [
    "### Overfitting And Underfitting\n",
    "\n",
    "- it gets affected by outliers (bias & variance)"
   ]
  },
  {
   "cell_type": "markdown",
   "metadata": {},
   "source": [
    "### Different Problem statement you can solve using Linear Regression\n",
    "1. Advance House Price Prediction\n",
    "2. Flight Price Prediction"
   ]
  },
  {
   "cell_type": "markdown",
   "metadata": {},
   "source": [
    "## Simple Linear Reg"
   ]
  },
  {
   "cell_type": "code",
   "execution_count": null,
   "metadata": {},
   "outputs": [],
   "source": []
  }
 ],
 "metadata": {
  "kernelspec": {
   "display_name": "Python 3 (ipykernel)",
   "language": "python",
   "name": "python3"
  },
  "language_info": {
   "codemirror_mode": {
    "name": "ipython",
    "version": 3
   },
   "file_extension": ".py",
   "mimetype": "text/x-python",
   "name": "python",
   "nbconvert_exporter": "python",
   "pygments_lexer": "ipython3",
   "version": "3.9.7"
  }
 },
 "nbformat": 4,
 "nbformat_minor": 4
}
