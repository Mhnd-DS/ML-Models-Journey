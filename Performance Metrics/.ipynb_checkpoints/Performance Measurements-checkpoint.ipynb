{
 "cells": [
  {
   "cell_type": "markdown",
   "id": "ac16d9dd-09b9-48d5-b18f-0410f73e9dfd",
   "metadata": {},
   "source": [
    "# Performance Measurements"
   ]
  },
  {
   "cell_type": "markdown",
   "id": "6e29baca-5221-4405-98d4-675b1765e3cb",
   "metadata": {},
   "source": [
    "## My Explaination"
   ]
  },
  {
   "cell_type": "code",
   "execution_count": null,
   "id": "2e3d3bb1-3f04-4a3d-98de-45f862fc87fa",
   "metadata": {},
   "outputs": [],
   "source": []
  },
  {
   "cell_type": "markdown",
   "id": "e2776808-896b-4113-8716-da078407ba98",
   "metadata": {
    "tags": []
   },
   "source": [
    "## implementation\n",
    "\n",
    "### Select the Right Threshold values using ROC Curve"
   ]
  },
  {
   "cell_type": "code",
   "execution_count": 10,
   "id": "0237134a-6003-4619-a2c9-68275bfb7c6a",
   "metadata": {},
   "outputs": [],
   "source": [
    "import numpy as np\n",
    "import pandas as pd\n",
    "import matplotlib.pyplot as plt\n",
    "%matplotlib inline\n",
    "import seaborn as sns\n",
    "\n",
    "\n",
    "\n",
    "# roc curve and auc score\n",
    "from sklearn.datasets import make_classification\n",
    "\n",
    "from sklearn.model_selection import train_test_split\n",
    "from sklearn.metrics import accuracy_score"
   ]
  },
  {
   "cell_type": "code",
   "execution_count": 2,
   "id": "b9c8db26-e932-4da3-9f74-7cedf228d19a",
   "metadata": {},
   "outputs": [],
   "source": [
    "X, y = make_classification(n_samples=2000, n_classes=2, weights=[1,1], random_state=1)"
   ]
  },
  {
   "cell_type": "code",
   "execution_count": 3,
   "id": "f178e707-c6aa-4d9f-9c9f-b8f26d86552a",
   "metadata": {},
   "outputs": [],
   "source": [
    "X_train,X_test,y_train,y_test = train_test_split(X, y, test_size=0.3, random_state=1)"
   ]
  },
  {
   "cell_type": "code",
   "execution_count": 4,
   "id": "03a2970f-db64-4a19-825d-f8931a6e547a",
   "metadata": {},
   "outputs": [
    {
     "data": {
      "text/plain": [
       "2000"
      ]
     },
     "execution_count": 4,
     "metadata": {},
     "output_type": "execute_result"
    }
   ],
   "source": [
    "len(X)"
   ]
  },
  {
   "cell_type": "code",
   "execution_count": 5,
   "id": "1b93b9d3-5e33-45e4-ad81-8790e783aa82",
   "metadata": {},
   "outputs": [],
   "source": [
    "from sklearn.metrics import roc_curve\n",
    "from sklearn.metrics import roc_auc_score"
   ]
  },
  {
   "cell_type": "markdown",
   "id": "67003ec3-c4f4-4d2b-8a20-f75bd2797163",
   "metadata": {},
   "source": [
    "### Random Forest"
   ]
  },
  {
   "cell_type": "code",
   "execution_count": 6,
   "id": "d84d160f-2029-4cc3-b850-e720378e2b24",
   "metadata": {},
   "outputs": [
    {
     "name": "stdout",
     "output_type": "stream",
     "text": [
      "RF train roc-auc: 1.0\n",
      "RF test roc-auc: 0.9841555555555556\n"
     ]
    }
   ],
   "source": [
    "from sklearn.ensemble import RandomForestClassifier\n",
    "\n",
    "rf_model = RandomForestClassifier()\n",
    "rf_model.fit(X_train, y_train)\n",
    "\n",
    "ytrain_pred = rf_model.predict_proba(X_train)\n",
    "\n",
    "print(f'RF train roc-auc: {roc_auc_score(y_train, ytrain_pred[:,1])}')\n",
    "\n",
    "ytest_pred = rf_model.predict_proba(X_test)\n",
    "print(f'RF test roc-auc: {roc_auc_score(y_test, ytest_pred[:,1])}')"
   ]
  },
  {
   "cell_type": "code",
   "execution_count": null,
   "id": "bcd50910-1800-4003-83de-5d6b07dadfc6",
   "metadata": {},
   "outputs": [],
   "source": []
  },
  {
   "cell_type": "markdown",
   "id": "24ba0802-4538-4912-b4c4-798d989d8a08",
   "metadata": {},
   "source": [
    "### LogisticRegression"
   ]
  },
  {
   "cell_type": "code",
   "execution_count": 7,
   "id": "84a5306f-2ff6-4022-81e0-ac3bdfdb1014",
   "metadata": {},
   "outputs": [
    {
     "name": "stdout",
     "output_type": "stream",
     "text": [
      "LogReg train roc-auc: 0.9863568922694498\n",
      "LogReg test roc-auc: 0.9885777777777777\n"
     ]
    }
   ],
   "source": [
    "from sklearn.linear_model import LogisticRegression\n",
    "log_classifier=LogisticRegression()\n",
    "log_classifier.fit(X_train, y_train)\n",
    "\n",
    "ytrain_pred = log_classifier.predict_proba(X_train)\n",
    "\n",
    "print(f'LogReg train roc-auc: {roc_auc_score(y_train, ytrain_pred[:,1])}')\n",
    "\n",
    "ytest_pred = log_classifier.predict_proba(X_test)\n",
    "print(f'LogReg test roc-auc: {roc_auc_score(y_test, ytest_pred[:,1])}')"
   ]
  },
  {
   "cell_type": "code",
   "execution_count": null,
   "id": "ed4b7544-81c6-4b0f-aa09-2caa39cc96bd",
   "metadata": {},
   "outputs": [],
   "source": []
  },
  {
   "cell_type": "markdown",
   "id": "774a2673-8b5c-4765-9906-8e71d9bcfb42",
   "metadata": {},
   "source": [
    "### AdaBoostClassifier"
   ]
  },
  {
   "cell_type": "code",
   "execution_count": 8,
   "id": "cc5ead4d-56b6-4478-8107-a8334f2771d7",
   "metadata": {},
   "outputs": [
    {
     "name": "stdout",
     "output_type": "stream",
     "text": [
      "ADA train roc-auc: 0.9975081174960356\n",
      "ADA test roc-auc: 0.9826111111111111\n"
     ]
    }
   ],
   "source": [
    "from sklearn.ensemble import AdaBoostClassifier\n",
    "ada_classifier=AdaBoostClassifier()\n",
    "ada_classifier.fit(X_train, y_train)\n",
    "ytrain_pred = ada_classifier.predict_proba(X_train)\n",
    "\n",
    "print(f'ADA train roc-auc: {roc_auc_score(y_train, ytrain_pred[:,1])}')\n",
    "\n",
    "ytest_pred = ada_classifier.predict_proba(X_test)\n",
    "print(f'ADA test roc-auc: {roc_auc_score(y_test, ytest_pred[:,1])}')"
   ]
  },
  {
   "cell_type": "code",
   "execution_count": null,
   "id": "f25b0c93-82b8-41ed-bcb5-c3342403946e",
   "metadata": {},
   "outputs": [],
   "source": []
  },
  {
   "cell_type": "markdown",
   "id": "c6d2dad7-7c9d-44d7-9dda-fd67d8e25650",
   "metadata": {},
   "source": [
    "### KNNClassifier\n"
   ]
  },
  {
   "cell_type": "code",
   "execution_count": 9,
   "id": "daf2e2e3-78d6-430b-acb4-f70928d953b2",
   "metadata": {},
   "outputs": [
    {
     "name": "stdout",
     "output_type": "stream",
     "text": [
      "KNN train roc-auc: 0.981670071491109\n",
      "KNN test roc-auc: 0.9841555555555556\n"
     ]
    }
   ],
   "source": [
    "from sklearn.neighbors import KNeighborsClassifier\n",
    "knn_classifier=KNeighborsClassifier()\n",
    "knn_classifier.fit(X_train, y_train)\n",
    "ytrain_pred = knn_classifier.predict_proba(X_train)\n",
    "\n",
    "print(f'KNN train roc-auc: {roc_auc_score(y_train, ytrain_pred[:,1])}')\n",
    "\n",
    "ytest_pred = rf_model.predict_proba(X_test)\n",
    "print(f'KNN test roc-auc: {roc_auc_score(y_test, ytest_pred[:,1])}')"
   ]
  },
  {
   "cell_type": "code",
   "execution_count": null,
   "id": "a703ece6-03d0-4880-b9a9-56e83183a5b6",
   "metadata": {},
   "outputs": [],
   "source": []
  },
  {
   "cell_type": "code",
   "execution_count": null,
   "id": "18161f11-bf53-465f-9add-d800de712622",
   "metadata": {},
   "outputs": [],
   "source": []
  },
  {
   "cell_type": "markdown",
   "id": "4e00e776-6f47-4b22-8d73-ca69bdc72d79",
   "metadata": {
    "tags": []
   },
   "source": [
    "### Case1: combine all models acc"
   ]
  },
  {
   "cell_type": "code",
   "execution_count": 90,
   "id": "09936f5c-917f-4030-b48a-9b6ff13d73ef",
   "metadata": {},
   "outputs": [
    {
     "name": "stdout",
     "output_type": "stream",
     "text": [
      "Ensemble test roc-auc: 0.9848555555555555\n"
     ]
    }
   ],
   "source": [
    "pred=[]\n",
    "for model in [rf_model,log_classifier,ada_classifier,knn_classifier]:\n",
    "    pred.append(pd.Series(model.predict_proba(X_test)[:,1]))\n",
    "    \n",
    "    \n",
    "final_prediction=pd.concat(pred,axis=1).mean(axis=1)\n",
    "print('Ensemble test roc-auc: {}'.format(roc_auc_score(y_test,final_prediction)))"
   ]
  },
  {
   "cell_type": "code",
   "execution_count": 93,
   "id": "9ff23961-c6b7-480c-8406-0831652dde8c",
   "metadata": {},
   "outputs": [
    {
     "data": {
      "text/html": [
       "<div>\n",
       "<style scoped>\n",
       "    .dataframe tbody tr th:only-of-type {\n",
       "        vertical-align: middle;\n",
       "    }\n",
       "\n",
       "    .dataframe tbody tr th {\n",
       "        vertical-align: top;\n",
       "    }\n",
       "\n",
       "    .dataframe thead th {\n",
       "        text-align: right;\n",
       "    }\n",
       "</style>\n",
       "<table border=\"1\" class=\"dataframe\">\n",
       "  <thead>\n",
       "    <tr style=\"text-align: right;\">\n",
       "      <th></th>\n",
       "      <th>0</th>\n",
       "      <th>1</th>\n",
       "      <th>2</th>\n",
       "      <th>3</th>\n",
       "      <th>4</th>\n",
       "    </tr>\n",
       "  </thead>\n",
       "  <tbody>\n",
       "    <tr>\n",
       "      <th>0</th>\n",
       "      <td>0.97</td>\n",
       "      <td>0.991861</td>\n",
       "      <td>0.559186</td>\n",
       "      <td>1.0</td>\n",
       "      <td>0.880262</td>\n",
       "    </tr>\n",
       "    <tr>\n",
       "      <th>1</th>\n",
       "      <td>0.00</td>\n",
       "      <td>0.000008</td>\n",
       "      <td>0.463282</td>\n",
       "      <td>0.0</td>\n",
       "      <td>0.115823</td>\n",
       "    </tr>\n",
       "    <tr>\n",
       "      <th>2</th>\n",
       "      <td>0.98</td>\n",
       "      <td>0.966929</td>\n",
       "      <td>0.538202</td>\n",
       "      <td>0.8</td>\n",
       "      <td>0.821283</td>\n",
       "    </tr>\n",
       "    <tr>\n",
       "      <th>3</th>\n",
       "      <td>0.93</td>\n",
       "      <td>0.761539</td>\n",
       "      <td>0.509875</td>\n",
       "      <td>0.8</td>\n",
       "      <td>0.750353</td>\n",
       "    </tr>\n",
       "    <tr>\n",
       "      <th>4</th>\n",
       "      <td>0.51</td>\n",
       "      <td>0.779443</td>\n",
       "      <td>0.490344</td>\n",
       "      <td>0.4</td>\n",
       "      <td>0.544947</td>\n",
       "    </tr>\n",
       "    <tr>\n",
       "      <th>...</th>\n",
       "      <td>...</td>\n",
       "      <td>...</td>\n",
       "      <td>...</td>\n",
       "      <td>...</td>\n",
       "      <td>...</td>\n",
       "    </tr>\n",
       "    <tr>\n",
       "      <th>595</th>\n",
       "      <td>0.00</td>\n",
       "      <td>0.024239</td>\n",
       "      <td>0.461121</td>\n",
       "      <td>0.0</td>\n",
       "      <td>0.121340</td>\n",
       "    </tr>\n",
       "    <tr>\n",
       "      <th>596</th>\n",
       "      <td>0.01</td>\n",
       "      <td>0.000003</td>\n",
       "      <td>0.441377</td>\n",
       "      <td>0.0</td>\n",
       "      <td>0.112845</td>\n",
       "    </tr>\n",
       "    <tr>\n",
       "      <th>597</th>\n",
       "      <td>1.00</td>\n",
       "      <td>0.984385</td>\n",
       "      <td>0.532403</td>\n",
       "      <td>1.0</td>\n",
       "      <td>0.879197</td>\n",
       "    </tr>\n",
       "    <tr>\n",
       "      <th>598</th>\n",
       "      <td>0.03</td>\n",
       "      <td>0.001147</td>\n",
       "      <td>0.441720</td>\n",
       "      <td>0.2</td>\n",
       "      <td>0.168217</td>\n",
       "    </tr>\n",
       "    <tr>\n",
       "      <th>599</th>\n",
       "      <td>0.98</td>\n",
       "      <td>0.989540</td>\n",
       "      <td>0.559890</td>\n",
       "      <td>0.8</td>\n",
       "      <td>0.832357</td>\n",
       "    </tr>\n",
       "  </tbody>\n",
       "</table>\n",
       "<p>600 rows × 5 columns</p>\n",
       "</div>"
      ],
      "text/plain": [
       "        0         1         2    3         4\n",
       "0    0.97  0.991861  0.559186  1.0  0.880262\n",
       "1    0.00  0.000008  0.463282  0.0  0.115823\n",
       "2    0.98  0.966929  0.538202  0.8  0.821283\n",
       "3    0.93  0.761539  0.509875  0.8  0.750353\n",
       "4    0.51  0.779443  0.490344  0.4  0.544947\n",
       "..    ...       ...       ...  ...       ...\n",
       "595  0.00  0.024239  0.461121  0.0  0.121340\n",
       "596  0.01  0.000003  0.441377  0.0  0.112845\n",
       "597  1.00  0.984385  0.532403  1.0  0.879197\n",
       "598  0.03  0.001147  0.441720  0.2  0.168217\n",
       "599  0.98  0.989540  0.559890  0.8  0.832357\n",
       "\n",
       "[600 rows x 5 columns]"
      ]
     },
     "execution_count": 93,
     "metadata": {},
     "output_type": "execute_result"
    }
   ],
   "source": [
    "pd.concat([pred[0],pred[1],pred[2],pred[3], final_prediction],axis=1)"
   ]
  },
  {
   "cell_type": "markdown",
   "id": "a9c5b58b-bbb2-46df-9544-1de4be79257f",
   "metadata": {},
   "source": [
    "#### Calculate the ROc Curve"
   ]
  },
  {
   "cell_type": "code",
   "execution_count": 46,
   "id": "b2b5d10e-f217-4f59-9ff0-ffd54db5f4cc",
   "metadata": {},
   "outputs": [],
   "source": [
    "fpr, tpr, thresholds = roc_curve(y_test, final_prediction)"
   ]
  },
  {
   "cell_type": "code",
   "execution_count": 51,
   "id": "4dba046e-7cb7-439f-93bb-4f7771994330",
   "metadata": {},
   "outputs": [],
   "source": [
    "def plot_roc_curve(fpr, tpr):\n",
    "    plt.plot(fpr, tpr, color='orange', label='ROC')\n",
    "    plt.plot([0, 1], [0, 1], color='darkblue', linestyle='--')\n",
    "    \n",
    "    \n",
    "    plt.xlabel('False Positive Rate')\n",
    "    plt.ylabel('True Positive Rate')\n",
    "    plt.title('Receiver Operating Characteristic (ROC) Curve')\n",
    "    plt.legend()\n",
    "    plt.show()"
   ]
  },
  {
   "cell_type": "code",
   "execution_count": 52,
   "id": "a4084007-aa93-48ba-891f-4334f3edb4db",
   "metadata": {},
   "outputs": [
    {
     "data": {
      "image/png": "[encoded data removed]",
      "text/plain": [
       "<Figure size 432x288 with 1 Axes>"
      ]
     },
     "metadata": {
      "needs_background": "light"
     },
     "output_type": "display_data"
    }
   ],
   "source": [
    "plot_roc_curve(fpr,tpr)"
   ]
  },
  {
   "cell_type": "code",
   "execution_count": 87,
   "id": "e3f9ea4c-c679-45d2-ad5d-a0aad19b6a46",
   "metadata": {},
   "outputs": [
    {
     "data": {
      "text/html": [
       "<div>\n",
       "<style scoped>\n",
       "    .dataframe tbody tr th:only-of-type {\n",
       "        vertical-align: middle;\n",
       "    }\n",
       "\n",
       "    .dataframe tbody tr th {\n",
       "        vertical-align: top;\n",
       "    }\n",
       "\n",
       "    .dataframe thead th {\n",
       "        text-align: right;\n",
       "    }\n",
       "</style>\n",
       "<table border=\"1\" class=\"dataframe\">\n",
       "  <thead>\n",
       "    <tr style=\"text-align: right;\">\n",
       "      <th></th>\n",
       "      <th>tpr</th>\n",
       "      <th>fpr</th>\n",
       "      <th>thresholds</th>\n",
       "      <th>accuracy</th>\n",
       "    </tr>\n",
       "  </thead>\n",
       "  <tbody>\n",
       "    <tr>\n",
       "      <th>34</th>\n",
       "      <td>0.980000</td>\n",
       "      <td>0.053333</td>\n",
       "      <td>0.437103</td>\n",
       "      <td>0.961667</td>\n",
       "    </tr>\n",
       "    <tr>\n",
       "      <th>33</th>\n",
       "      <td>0.966667</td>\n",
       "      <td>0.053333</td>\n",
       "      <td>0.473669</td>\n",
       "      <td>0.958333</td>\n",
       "    </tr>\n",
       "    <tr>\n",
       "      <th>31</th>\n",
       "      <td>0.963333</td>\n",
       "      <td>0.050000</td>\n",
       "      <td>0.539696</td>\n",
       "      <td>0.958333</td>\n",
       "    </tr>\n",
       "    <tr>\n",
       "      <th>35</th>\n",
       "      <td>0.980000</td>\n",
       "      <td>0.070000</td>\n",
       "      <td>0.422643</td>\n",
       "      <td>0.956667</td>\n",
       "    </tr>\n",
       "    <tr>\n",
       "      <th>32</th>\n",
       "      <td>0.966667</td>\n",
       "      <td>0.050000</td>\n",
       "      <td>0.538659</td>\n",
       "      <td>0.956667</td>\n",
       "    </tr>\n",
       "  </tbody>\n",
       "</table>\n",
       "</div>"
      ],
      "text/plain": [
       "         tpr       fpr  thresholds  accuracy\n",
       "34  0.980000  0.053333    0.437103  0.961667\n",
       "33  0.966667  0.053333    0.473669  0.958333\n",
       "31  0.963333  0.050000    0.539696  0.958333\n",
       "35  0.980000  0.070000    0.422643  0.956667\n",
       "32  0.966667  0.050000    0.538659  0.956667"
      ]
     },
     "execution_count": 87,
     "metadata": {},
     "output_type": "execute_result"
    }
   ],
   "source": [
    "from sklearn.metrics import accuracy_score\n",
    "\n",
    "accuracy_ls = []\n",
    "\n",
    "\n",
    "for thres in thresholds:\n",
    "    y_pred = np.where(final_prediction>thres,1,0)\n",
    "    accuracy_ls.append(accuracy_score(y_test, y_pred, normalize=True))\n",
    "    \n",
    "accuracy_ls = pd.concat([pd.Series(tpr),pd.Series(fpr), pd.Series(thresholds), pd.Series(accuracy_ls)],\n",
    "                        axis=1)\n",
    "\n",
    "\n",
    "accuracy_ls.columns = ['tpr','fpr','thresholds', 'accuracy']\n",
    "accuracy_ls.sort_values(by='accuracy', ascending=False, inplace=True)\n",
    "accuracy_ls.head()"
   ]
  },
  {
   "cell_type": "markdown",
   "id": "8b765bfb-2fd3-4a89-90e9-20c513a5f6d5",
   "metadata": {},
   "source": [
    "### Case2: ROC for each model"
   ]
  },
  {
   "cell_type": "code",
   "execution_count": 11,
   "id": "91b912d9-8579-4140-9ec1-6d8d28455cca",
   "metadata": {},
   "outputs": [],
   "source": [
    "#ROC Curve\n",
    "from sklearn.metrics import roc_curve\n",
    "y_pred_prob1 = log_classifier.predict_proba(X_test)[:,1]\n",
    "fpr1 , tpr1, thresholds1 = roc_curve(y_test, y_pred_prob1)\n",
    "\n",
    "y_pred_prob2 = ada_classifier.predict_proba(X_test)[:,1]\n",
    "fpr2 , tpr2, thresholds2 = roc_curve(y_test, y_pred_prob2)\n",
    "\n",
    "\n",
    "y_pred_prob3 = rf_model.predict_proba(X_test)[:,1]\n",
    "fpr3 , tpr3, thresholds3 = roc_curve(y_test, y_pred_prob3)\n",
    "\n",
    "y_pred_prob4 = knn_classifier.predict_proba(X_test)[:,1]\n",
    "fpr4 , tpr4, thresholds4 = roc_curve(y_test, y_pred_prob4)"
   ]
  },
  {
   "cell_type": "code",
   "execution_count": 12,
   "id": "7735354b-ac01-45ab-a270-eeeae18b0b85",
   "metadata": {},
   "outputs": [
    {
     "data": {
      "image/png": "[encoded data removed]",
      "text/plain": [
       "<Figure size 432x288 with 1 Axes>"
      ]
     },
     "metadata": {
      "needs_background": "light"
     },
     "output_type": "display_data"
    }
   ],
   "source": [
    "\n",
    "\n",
    "plt.plot([0, 1], [0, 1], color='darkblue', linestyle='--')\n",
    "\n",
    "plt.plot(fpr1, tpr1, label= \"Logistic reg\")\n",
    "plt.plot(fpr2, tpr2, label= \"ADA\")\n",
    "plt.plot(fpr3, tpr3, label= \"RF\")\n",
    "plt.plot(fpr4, tpr4, label= \"KNN\")\n",
    "\n",
    "\n",
    "plt.legend()\n",
    "plt.xlabel(\"FPR\")\n",
    "plt.ylabel(\"TPR\")\n",
    "plt.title('Receiver Operating Characteristic')\n",
    "plt.show()"
   ]
  },
  {
   "cell_type": "code",
   "execution_count": 49,
   "id": "52af143d-0da5-46f8-a0eb-f6158fbedaea",
   "metadata": {},
   "outputs": [],
   "source": [
    "def thresh_acc(tpr, fpr, thresholds, y_pred_prob):\n",
    "    accuracy_ls = []\n",
    "\n",
    "    for thres in thresholds:\n",
    "        y_pred = np.where(y_pred_prob>thres,1,0)\n",
    "        accuracy_ls.append(accuracy_score(y_test, y_pred, normalize=True))\n",
    "\n",
    "    accuracy_ls = pd.concat([pd.Series(tpr),pd.Series(fpr), pd.Series(thresholds), pd.Series(accuracy_ls)],\n",
    "                            axis=1)\n",
    "\n",
    "\n",
    "    accuracy_ls.columns = ['tpr','fpr','thresholds', 'accuracy']\n",
    "    accuracy_ls.sort_values(by='accuracy', ascending=False, inplace=True)\n",
    "    return(accuracy_ls.head())"
   ]
  },
  {
   "cell_type": "code",
   "execution_count": 51,
   "id": "5c9abd6f-48d9-421d-a12f-86b15cca0794",
   "metadata": {},
   "outputs": [
    {
     "data": {
      "text/html": [
       "<div>\n",
       "<style scoped>\n",
       "    .dataframe tbody tr th:only-of-type {\n",
       "        vertical-align: middle;\n",
       "    }\n",
       "\n",
       "    .dataframe tbody tr th {\n",
       "        vertical-align: top;\n",
       "    }\n",
       "\n",
       "    .dataframe thead th {\n",
       "        text-align: right;\n",
       "    }\n",
       "</style>\n",
       "<table border=\"1\" class=\"dataframe\">\n",
       "  <thead>\n",
       "    <tr style=\"text-align: right;\">\n",
       "      <th></th>\n",
       "      <th>tpr</th>\n",
       "      <th>fpr</th>\n",
       "      <th>thresholds</th>\n",
       "      <th>accuracy</th>\n",
       "    </tr>\n",
       "  </thead>\n",
       "  <tbody>\n",
       "    <tr>\n",
       "      <th>23</th>\n",
       "      <td>0.970000</td>\n",
       "      <td>0.040000</td>\n",
       "      <td>0.509092</td>\n",
       "      <td>0.966667</td>\n",
       "    </tr>\n",
       "    <tr>\n",
       "      <th>21</th>\n",
       "      <td>0.963333</td>\n",
       "      <td>0.036667</td>\n",
       "      <td>0.572811</td>\n",
       "      <td>0.965000</td>\n",
       "    </tr>\n",
       "    <tr>\n",
       "      <th>24</th>\n",
       "      <td>0.973333</td>\n",
       "      <td>0.040000</td>\n",
       "      <td>0.505748</td>\n",
       "      <td>0.965000</td>\n",
       "    </tr>\n",
       "    <tr>\n",
       "      <th>22</th>\n",
       "      <td>0.970000</td>\n",
       "      <td>0.036667</td>\n",
       "      <td>0.544222</td>\n",
       "      <td>0.965000</td>\n",
       "    </tr>\n",
       "    <tr>\n",
       "      <th>20</th>\n",
       "      <td>0.963333</td>\n",
       "      <td>0.033333</td>\n",
       "      <td>0.585992</td>\n",
       "      <td>0.963333</td>\n",
       "    </tr>\n",
       "  </tbody>\n",
       "</table>\n",
       "</div>"
      ],
      "text/plain": [
       "         tpr       fpr  thresholds  accuracy\n",
       "23  0.970000  0.040000    0.509092  0.966667\n",
       "21  0.963333  0.036667    0.572811  0.965000\n",
       "24  0.973333  0.040000    0.505748  0.965000\n",
       "22  0.970000  0.036667    0.544222  0.965000\n",
       "20  0.963333  0.033333    0.585992  0.963333"
      ]
     },
     "execution_count": 51,
     "metadata": {},
     "output_type": "execute_result"
    }
   ],
   "source": [
    "#log_classifier\n",
    "thresh_acc(tpr1, fpr1, thresholds1, y_pred_prob1)"
   ]
  },
  {
   "cell_type": "code",
   "execution_count": 52,
   "id": "a983e4ed-967f-44de-aa18-947bacac7045",
   "metadata": {},
   "outputs": [
    {
     "data": {
      "text/html": [
       "<div>\n",
       "<style scoped>\n",
       "    .dataframe tbody tr th:only-of-type {\n",
       "        vertical-align: middle;\n",
       "    }\n",
       "\n",
       "    .dataframe tbody tr th {\n",
       "        vertical-align: top;\n",
       "    }\n",
       "\n",
       "    .dataframe thead th {\n",
       "        text-align: right;\n",
       "    }\n",
       "</style>\n",
       "<table border=\"1\" class=\"dataframe\">\n",
       "  <thead>\n",
       "    <tr style=\"text-align: right;\">\n",
       "      <th></th>\n",
       "      <th>tpr</th>\n",
       "      <th>fpr</th>\n",
       "      <th>thresholds</th>\n",
       "      <th>accuracy</th>\n",
       "    </tr>\n",
       "  </thead>\n",
       "  <tbody>\n",
       "    <tr>\n",
       "      <th>22</th>\n",
       "      <td>0.916667</td>\n",
       "      <td>0.026667</td>\n",
       "      <td>0.504561</td>\n",
       "      <td>0.943333</td>\n",
       "    </tr>\n",
       "    <tr>\n",
       "      <th>23</th>\n",
       "      <td>0.916667</td>\n",
       "      <td>0.036667</td>\n",
       "      <td>0.502760</td>\n",
       "      <td>0.941667</td>\n",
       "    </tr>\n",
       "    <tr>\n",
       "      <th>25</th>\n",
       "      <td>0.920000</td>\n",
       "      <td>0.043333</td>\n",
       "      <td>0.502366</td>\n",
       "      <td>0.940000</td>\n",
       "    </tr>\n",
       "    <tr>\n",
       "      <th>24</th>\n",
       "      <td>0.920000</td>\n",
       "      <td>0.036667</td>\n",
       "      <td>0.502402</td>\n",
       "      <td>0.940000</td>\n",
       "    </tr>\n",
       "    <tr>\n",
       "      <th>38</th>\n",
       "      <td>0.960000</td>\n",
       "      <td>0.080000</td>\n",
       "      <td>0.490344</td>\n",
       "      <td>0.938333</td>\n",
       "    </tr>\n",
       "  </tbody>\n",
       "</table>\n",
       "</div>"
      ],
      "text/plain": [
       "         tpr       fpr  thresholds  accuracy\n",
       "22  0.916667  0.026667    0.504561  0.943333\n",
       "23  0.916667  0.036667    0.502760  0.941667\n",
       "25  0.920000  0.043333    0.502366  0.940000\n",
       "24  0.920000  0.036667    0.502402  0.940000\n",
       "38  0.960000  0.080000    0.490344  0.938333"
      ]
     },
     "execution_count": 52,
     "metadata": {},
     "output_type": "execute_result"
    }
   ],
   "source": [
    "#ada_classifier\n",
    "thresh_acc(tpr2, fpr2, thresholds2, y_pred_prob2)"
   ]
  },
  {
   "cell_type": "code",
   "execution_count": 53,
   "id": "d933129c-a8ad-4dae-bc09-5bc8de16cbfc",
   "metadata": {},
   "outputs": [
    {
     "data": {
      "text/html": [
       "<div>\n",
       "<style scoped>\n",
       "    .dataframe tbody tr th:only-of-type {\n",
       "        vertical-align: middle;\n",
       "    }\n",
       "\n",
       "    .dataframe tbody tr th {\n",
       "        vertical-align: top;\n",
       "    }\n",
       "\n",
       "    .dataframe thead th {\n",
       "        text-align: right;\n",
       "    }\n",
       "</style>\n",
       "<table border=\"1\" class=\"dataframe\">\n",
       "  <thead>\n",
       "    <tr style=\"text-align: right;\">\n",
       "      <th></th>\n",
       "      <th>tpr</th>\n",
       "      <th>fpr</th>\n",
       "      <th>thresholds</th>\n",
       "      <th>accuracy</th>\n",
       "    </tr>\n",
       "  </thead>\n",
       "  <tbody>\n",
       "    <tr>\n",
       "      <th>34</th>\n",
       "      <td>0.960000</td>\n",
       "      <td>0.043333</td>\n",
       "      <td>0.49</td>\n",
       "      <td>0.960000</td>\n",
       "    </tr>\n",
       "    <tr>\n",
       "      <th>35</th>\n",
       "      <td>0.960000</td>\n",
       "      <td>0.050000</td>\n",
       "      <td>0.48</td>\n",
       "      <td>0.958333</td>\n",
       "    </tr>\n",
       "    <tr>\n",
       "      <th>33</th>\n",
       "      <td>0.960000</td>\n",
       "      <td>0.040000</td>\n",
       "      <td>0.50</td>\n",
       "      <td>0.958333</td>\n",
       "    </tr>\n",
       "    <tr>\n",
       "      <th>32</th>\n",
       "      <td>0.956667</td>\n",
       "      <td>0.040000</td>\n",
       "      <td>0.52</td>\n",
       "      <td>0.955000</td>\n",
       "    </tr>\n",
       "    <tr>\n",
       "      <th>38</th>\n",
       "      <td>0.963333</td>\n",
       "      <td>0.056667</td>\n",
       "      <td>0.42</td>\n",
       "      <td>0.955000</td>\n",
       "    </tr>\n",
       "  </tbody>\n",
       "</table>\n",
       "</div>"
      ],
      "text/plain": [
       "         tpr       fpr  thresholds  accuracy\n",
       "34  0.960000  0.043333        0.49  0.960000\n",
       "35  0.960000  0.050000        0.48  0.958333\n",
       "33  0.960000  0.040000        0.50  0.958333\n",
       "32  0.956667  0.040000        0.52  0.955000\n",
       "38  0.963333  0.056667        0.42  0.955000"
      ]
     },
     "execution_count": 53,
     "metadata": {},
     "output_type": "execute_result"
    }
   ],
   "source": [
    "#rf_model\n",
    "thresh_acc(tpr3, fpr3, thresholds3, y_pred_prob3)"
   ]
  },
  {
   "cell_type": "code",
   "execution_count": 54,
   "id": "ed0b9fba-a9a6-4d5c-b0ec-63a6451c1250",
   "metadata": {},
   "outputs": [
    {
     "data": {
      "text/html": [
       "<div>\n",
       "<style scoped>\n",
       "    .dataframe tbody tr th:only-of-type {\n",
       "        vertical-align: middle;\n",
       "    }\n",
       "\n",
       "    .dataframe tbody tr th {\n",
       "        vertical-align: top;\n",
       "    }\n",
       "\n",
       "    .dataframe thead th {\n",
       "        text-align: right;\n",
       "    }\n",
       "</style>\n",
       "<table border=\"1\" class=\"dataframe\">\n",
       "  <thead>\n",
       "    <tr style=\"text-align: right;\">\n",
       "      <th></th>\n",
       "      <th>tpr</th>\n",
       "      <th>fpr</th>\n",
       "      <th>thresholds</th>\n",
       "      <th>accuracy</th>\n",
       "    </tr>\n",
       "  </thead>\n",
       "  <tbody>\n",
       "    <tr>\n",
       "      <th>4</th>\n",
       "      <td>0.970000</td>\n",
       "      <td>0.276667</td>\n",
       "      <td>0.4</td>\n",
       "      <td>0.886667</td>\n",
       "    </tr>\n",
       "    <tr>\n",
       "      <th>3</th>\n",
       "      <td>0.923333</td>\n",
       "      <td>0.150000</td>\n",
       "      <td>0.6</td>\n",
       "      <td>0.846667</td>\n",
       "    </tr>\n",
       "    <tr>\n",
       "      <th>5</th>\n",
       "      <td>0.993333</td>\n",
       "      <td>0.500000</td>\n",
       "      <td>0.2</td>\n",
       "      <td>0.846667</td>\n",
       "    </tr>\n",
       "    <tr>\n",
       "      <th>6</th>\n",
       "      <td>1.000000</td>\n",
       "      <td>1.000000</td>\n",
       "      <td>0.0</td>\n",
       "      <td>0.746667</td>\n",
       "    </tr>\n",
       "    <tr>\n",
       "      <th>2</th>\n",
       "      <td>0.753333</td>\n",
       "      <td>0.060000</td>\n",
       "      <td>0.8</td>\n",
       "      <td>0.695000</td>\n",
       "    </tr>\n",
       "  </tbody>\n",
       "</table>\n",
       "</div>"
      ],
      "text/plain": [
       "        tpr       fpr  thresholds  accuracy\n",
       "4  0.970000  0.276667         0.4  0.886667\n",
       "3  0.923333  0.150000         0.6  0.846667\n",
       "5  0.993333  0.500000         0.2  0.846667\n",
       "6  1.000000  1.000000         0.0  0.746667\n",
       "2  0.753333  0.060000         0.8  0.695000"
      ]
     },
     "execution_count": 54,
     "metadata": {},
     "output_type": "execute_result"
    }
   ],
   "source": [
    "#KNN\n",
    "thresh_acc(tpr4, fpr4, thresholds4, y_pred_prob4)"
   ]
  },
  {
   "cell_type": "code",
   "execution_count": null,
   "id": "e8bdb8a1-8832-4a54-806b-00baf848d4b5",
   "metadata": {},
   "outputs": [],
   "source": []
  }
 ],
 "metadata": {
  "kernelspec": {
   "display_name": "Python 3 (ipykernel)",
   "language": "python",
   "name": "python3"
  },
  "language_info": {
   "codemirror_mode": {
    "name": "ipython",
    "version": 3
   },
   "file_extension": ".py",
   "mimetype": "text/x-python",
   "name": "python",
   "nbconvert_exporter": "python",
   "pygments_lexer": "ipython3",
   "version": "3.9.7"
  }
 },
 "nbformat": 4,
 "nbformat_minor": 5
}
